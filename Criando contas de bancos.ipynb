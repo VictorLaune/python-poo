{
 "cells": [
  {
   "cell_type": "markdown",
   "id": "b9573e91",
   "metadata": {},
   "source": [
    "**Criando uma \"Conta Base\" para os diferentes tipos de conta de um banco**"
   ]
  },
  {
   "cell_type": "code",
   "execution_count": 24,
   "id": "5a804c07",
   "metadata": {},
   "outputs": [],
   "source": [
    "class ContaBase():\n",
    "    def __init__(self, numero, titular, saldo):\n",
    "        self.numero = numero\n",
    "        self.titular = titular\n",
    "        self.saldo = saldo\n",
    "    \n",
    "    def deposita(self, valor):\n",
    "        self.saldo += valor\n",
    "    \n",
    "    def saca(self, valor):\n",
    "        if self.saldo < valor:\n",
    "            print('Saldo insuficiente')\n",
    "        else:\n",
    "            self.saldo -= valor\n",
    "    \n",
    "    def extrato (self):\n",
    "        print(f'cliente: {self.titular} \\nnumero: {self.numero} \\nsaldo:{self.saldo}')\n",
    "    \n",
    "    def aumenta_limite(self):\n",
    "        print('Solicito aumento de limite')"
   ]
  },
  {
   "cell_type": "code",
   "execution_count": 37,
   "id": "a5807ace",
   "metadata": {},
   "outputs": [
    {
     "name": "stdout",
     "output_type": "stream",
     "text": [
      "cliente: Victor Laune \n",
      "numero: 123 \n",
      "saldo:1000\n"
     ]
    }
   ],
   "source": [
    "contaBaseVictor = ContaBase('123', 'Victor Laune', 1000)\n",
    "contaBaseVictor.extrato()"
   ]
  },
  {
   "cell_type": "markdown",
   "id": "3b0442e0",
   "metadata": {},
   "source": [
    "**Criando uma Conta Poupança**"
   ]
  },
  {
   "cell_type": "code",
   "execution_count": 38,
   "id": "860eb651",
   "metadata": {},
   "outputs": [],
   "source": [
    "# Criando uma Conta Poupança\n",
    "class ContaPoupanca(ContaBase):\n",
    "    def __init__(self, numero, titular, saldo, rendimento=0.01):\n",
    "        super().__init__(numero, titular, saldo)\n",
    "        self.rendimento = rendimento\n",
    "    \n",
    "    def render(self):\n",
    "        self.saldo += self.saldo * self.rendimento"
   ]
  },
  {
   "cell_type": "code",
   "execution_count": 39,
   "id": "eb461f7e",
   "metadata": {},
   "outputs": [],
   "source": [
    "contaPoupancaVictor = ContaPoupanca('123', 'Victor Laune', 1100)"
   ]
  },
  {
   "cell_type": "code",
   "execution_count": 40,
   "id": "f693f830",
   "metadata": {},
   "outputs": [
    {
     "name": "stdout",
     "output_type": "stream",
     "text": [
      "cliente: Victor Laune \n",
      "numero: 123 \n",
      "saldo:1250\n"
     ]
    }
   ],
   "source": [
    "contaPoupancaVictor.deposita(150)\n",
    "contaPoupancaVictor.extrato()"
   ]
  },
  {
   "cell_type": "markdown",
   "id": "065b3377",
   "metadata": {},
   "source": [
    "**Criando uma Conta Salário**"
   ]
  },
  {
   "cell_type": "code",
   "execution_count": 36,
   "id": "1aea94fa",
   "metadata": {},
   "outputs": [],
   "source": [
    "class ContaSalario(ContaBase):\n",
    "    def __init__(self, numero, titular, saldo, salario):\n",
    "        super().__init__(numero, titular, saldo)\n",
    "        self.salario = salario\n",
    "    \n",
    "    def receber(self):\n",
    "        self.deposita(self.salario)\n",
    "    \n",
    "    def novo_salario(self, novo_salario):\n",
    "        self.salario = novo_salario"
   ]
  },
  {
   "cell_type": "code",
   "execution_count": 41,
   "id": "3620b4c1",
   "metadata": {},
   "outputs": [],
   "source": [
    "contaSalarioVictor = ContaSalario('123', 'Victor Laune', 0, 1250)"
   ]
  },
  {
   "cell_type": "code",
   "execution_count": 44,
   "id": "f608c1a9",
   "metadata": {},
   "outputs": [
    {
     "name": "stdout",
     "output_type": "stream",
     "text": [
      "cliente: Victor Laune \n",
      "numero: 123 \n",
      "saldo:1250\n",
      "*********************\n",
      "cliente: Victor Laune \n",
      "numero: 123 \n",
      "saldo:2500\n"
     ]
    }
   ],
   "source": [
    "contaSalarioVictor.extrato()\n",
    "contaSalarioVictor.receber()\n",
    "print('*********************')\n",
    "contaSalarioVictor.extrato()"
   ]
  },
  {
   "cell_type": "markdown",
   "id": "b52a625a",
   "metadata": {},
   "source": [
    "**Criando uma Conta Corrente**"
   ]
  },
  {
   "cell_type": "code",
   "execution_count": null,
   "id": "71c617d1",
   "metadata": {},
   "outputs": [],
   "source": [
    "class ContaCorrente(ContaBase):\n",
    "    def __init__(self, numero, titular, saldo, limite):\n",
    "        super().__init__(numero, titular, saldo)\n",
    "        limite = 0 if limite < 0 else limite\n",
    "        self.limite = limite\n",
    "    \n",
    "    def saca_especial(self, valor):\n",
    "        novo_saldo = self.saldo - valor\n",
    "        if novo_saldo + self.limite < 0:\n",
    "            print(f'Limite de {self.limite + self.saldo} insuficiente para saque de {valor}. Saldo atual {self.saldo}')\n",
    "        else:\n",
    "            self.saldo = novo_saldo\n",
    "    \n",
    "    def novo_limite (self, novo_limite):\n",
    "        if self.saldo + novo_limite < 0:\n",
    "            print(f'Saldo em conta ({self.saldo}) menor que novo limite de {novo_limite}')\n",
    "        else:\n",
    "            self.limite = novo_limite"
   ]
  },
  {
   "cell_type": "markdown",
   "id": "0340cda0",
   "metadata": {},
   "source": [
    "**Criando uma Conta Corrente v2**"
   ]
  },
  {
   "cell_type": "code",
   "execution_count": null,
   "id": "3f9c8147",
   "metadata": {},
   "outputs": [],
   "source": []
  }
 ],
 "metadata": {
  "kernelspec": {
   "display_name": "Python 3 (ipykernel)",
   "language": "python",
   "name": "python3"
  },
  "language_info": {
   "codemirror_mode": {
    "name": "ipython",
    "version": 3
   },
   "file_extension": ".py",
   "mimetype": "text/x-python",
   "name": "python",
   "nbconvert_exporter": "python",
   "pygments_lexer": "ipython3",
   "version": "3.9.13"
  }
 },
 "nbformat": 4,
 "nbformat_minor": 5
}
